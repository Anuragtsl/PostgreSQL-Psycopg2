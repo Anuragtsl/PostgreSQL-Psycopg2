{
 "cells": [
  {
   "cell_type": "markdown",
   "metadata": {},
   "source": [
    "# Introduction\n",
    "\n",
    "PostgreSQL is one of the most advanced and widely used relational database management systems. It's extremely popular for many reasons, a few of which include it being open source, its extensibility, and its ability to handle many different types of applications and varying loads.\n",
    "\n",
    "With Python, you can easily establish a connection to your PostgreSQL database. There are many Python drivers for PostgreSQL, with \"psycopg\" being the most popular one. Its current version is psycopg2.\n",
    "\n",
    "In this, we'll be discussing how to access a PostgreSQL database in Python using the psycopg2 driver."
   ]
  },
  {
   "cell_type": "code",
   "execution_count": 1,
   "metadata": {
    "scrolled": true
   },
   "outputs": [
    {
     "name": "stdout",
     "output_type": "stream",
     "text": [
      "Requirement already satisfied: psycopg2 in c:\\users\\anurag\\anaconda3\\lib\\site-packages (2.9.3)\n"
     ]
    }
   ],
   "source": [
    "!pip install psycopg2"
   ]
  },
  {
   "cell_type": "code",
   "execution_count": 2,
   "metadata": {},
   "outputs": [],
   "source": [
    "import psycopg2"
   ]
  },
  {
   "cell_type": "markdown",
   "metadata": {},
   "source": [
    "# Connecting to a Database\n",
    "\n",
    "To connect to your database, you should first create a connection object representing the database. Next, you should create a cursor object to help you in execution of your SQL statements."
   ]
  },
  {
   "cell_type": "code",
   "execution_count": 3,
   "metadata": {},
   "outputs": [],
   "source": [
    "con = psycopg2.connect(database='postgres', user='postgres', password='', host='127.0.0.1', port=5432)"
   ]
  },
  {
   "cell_type": "code",
   "execution_count": 4,
   "metadata": {},
   "outputs": [],
   "source": [
    "cur = con.cursor()"
   ]
  },
  {
   "cell_type": "markdown",
   "metadata": {},
   "source": [
    "**The following is the list of parameters that have been passed to the connect() method:**\n",
    "\n",
    "* database: The name of the database you need to connect to.\n",
    "* user: The username to be used for authentication.\n",
    "* password: The database password for the user.\n",
    "* host: The address of the database server. For example, a domain name, \"localhost\", or an IP address.\n",
    "* port: The port number. If you don't provide this, the default one will be used, which is 5432.\n",
    "\n",
    "Note that the values for the above parameters should be correct for the connection to be successful. If not, an exception will be generated. The output in the above code shows that the connection to the database has been established successfully."
   ]
  },
  {
   "cell_type": "markdown",
   "metadata": {},
   "source": [
    "# Creating a Table\n",
    "\n",
    "To create a Postgres table in Python, we use the CREATE TABLE SQL statement. This query should be executed after establishing a connection to the database. We also create a cursor object by calling the cursor() method that belongs to the connection object. This cursor object is used to actually execute your commands.\n",
    "\n",
    "We then call the execute() method of the cursor object to help us in creating the table. Finally, we need to commit and close the connection. \"Committing\" the connection tells the driver to send the commands to the database."
   ]
  },
  {
   "cell_type": "code",
   "execution_count": 5,
   "metadata": {},
   "outputs": [
    {
     "name": "stdout",
     "output_type": "stream",
     "text": [
      "Table Created!!\n"
     ]
    }
   ],
   "source": [
    "cur.execute('''CREATE TABLE IF NOT EXISTS student\n",
    "(admission INT PRIMARY KEY NOT NULL,\n",
    "name TEXT NOT NULL,\n",
    "age INT NOT NULL,\n",
    "course CHAR(50),\n",
    "department CHAR(50));''')\n",
    "\n",
    "print('Table Created!!')\n",
    "con.commit()"
   ]
  },
  {
   "cell_type": "markdown",
   "metadata": {},
   "source": [
    "***The commit() method helps us apply the changes that we have made to the database, and these changes cannot be undone if commit() runs successfully. The close() method will close the connection to the database.***\n",
    "\n",
    "At this point we have created a table with 4 columns, all of which have various data types. The above output shows that the table was created successfully.\n"
   ]
  },
  {
   "cell_type": "markdown",
   "metadata": {},
   "source": [
    "# Inserting Data\n",
    "\n",
    "We can insert either a single record or multiple records into a Postgres database table. Again, we must first establish a connection to the database server by calling the connect() function. Next, we should create a cursor object by calling the cursor() method. Lastly, we should run the INSERT statement via the execute() method to add the data into the table."
   ]
  },
  {
   "cell_type": "code",
   "execution_count": 6,
   "metadata": {
    "scrolled": true
   },
   "outputs": [],
   "source": [
    "cur.execute(\"INSERT INTO student (admission,name,age,course,department) VALUES (3420, '{John}', 18, '{Computer Science}', '{ICT}')\");\n",
    "\n",
    "con.commit()"
   ]
  },
  {
   "cell_type": "code",
   "execution_count": 7,
   "metadata": {},
   "outputs": [],
   "source": [
    "student_data = (\n",
    "(3419, '{Abel}', 17, '{Computer Science}', '{ICT}'),\n",
    "(3421, '{Joel}', 17, '{Computer Science}', '{ICT}'),\n",
    "(3422, '{Antony}', 19, '{Electrical Engineering}', '{Engineering}'),\n",
    "(3423, '{Alice}', 18, '{Information Technology}', '{ICT}'))"
   ]
  },
  {
   "cell_type": "code",
   "execution_count": 8,
   "metadata": {},
   "outputs": [],
   "source": [
    "query = \"INSERT INTO student(admission,name,age,course,department) VALUES (%s,%s,%s,%s,%s)\""
   ]
  },
  {
   "cell_type": "code",
   "execution_count": 9,
   "metadata": {},
   "outputs": [],
   "source": [
    "cur.executemany(query,student_data)"
   ]
  },
  {
   "cell_type": "markdown",
   "metadata": {},
   "source": [
    "# Retrieving Data\n",
    "\n",
    "You can select data from a Postgres database and view the table records. First, you must establish a connection to the database using the connect() function. Next, a new cursor should be created by calling the cursor() method. The created cursor object can then be used to execute the SELECT statement for querying data from the database."
   ]
  },
  {
   "cell_type": "code",
   "execution_count": 10,
   "metadata": {},
   "outputs": [],
   "source": [
    "cur.execute(\"SELECT * FROM student\");\n",
    "rows = cur.fetchall()"
   ]
  },
  {
   "cell_type": "code",
   "execution_count": 12,
   "metadata": {},
   "outputs": [
    {
     "name": "stdout",
     "output_type": "stream",
     "text": [
      "admission=  3420\n",
      "name=  {John}\n",
      "age=  18\n",
      "course=  {Computer Science}                                \n",
      "department=  {ICT}                                             \n",
      "---------------------------\n",
      "admission=  3419\n",
      "name=  {Abel}\n",
      "age=  17\n",
      "course=  {Computer Science}                                \n",
      "department=  {ICT}                                             \n",
      "---------------------------\n",
      "admission=  3421\n",
      "name=  {Joel}\n",
      "age=  17\n",
      "course=  {Computer Science}                                \n",
      "department=  {ICT}                                             \n",
      "---------------------------\n",
      "admission=  3422\n",
      "name=  {Antony}\n",
      "age=  19\n",
      "course=  {Electrical Engineering}                          \n",
      "department=  {Engineering}                                     \n",
      "---------------------------\n",
      "admission=  3423\n",
      "name=  {Alice}\n",
      "age=  18\n",
      "course=  {Information Technology}                          \n",
      "department=  {ICT}                                             \n",
      "---------------------------\n"
     ]
    }
   ],
   "source": [
    "for row in rows:\n",
    "    print(\"admission= \",row[0])\n",
    "    print(\"name= \",row[1])\n",
    "    print(\"age= \",row[2])\n",
    "    print(\"course= \",row[3])\n",
    "    print(\"department= \",row[4])\n",
    "    print(\"---------------------------\")"
   ]
  },
  {
   "cell_type": "markdown",
   "metadata": {},
   "source": [
    "Here we have retrieved data from the database by specifying the table and names of the columns that we need to retrieve from the database table. This data is returned to us as list of tuples, with the \"top level\" list being the rows of data. Then each row is a tuple of the column data. If no rows are returned for the query then an empty list is returned by fetchall()."
   ]
  },
  {
   "cell_type": "markdown",
   "metadata": {},
   "source": [
    "# Updating Tables\n",
    "\n",
    "We can update or modify the details of a record that has already been inserted into a database table. First, we have to establish a connection to the database using the connect() method. Next, we call the cursor() function to create a cursor object. Finally, we run the execute() method to execute the UPDATE statement with input values."
   ]
  },
  {
   "cell_type": "code",
   "execution_count": 35,
   "metadata": {},
   "outputs": [],
   "source": [
    "cur.execute(\"UPDATE student SET age=19 WHERE admission=3420 OR admission=3423\");"
   ]
  },
  {
   "cell_type": "code",
   "execution_count": 36,
   "metadata": {},
   "outputs": [
    {
     "name": "stdout",
     "output_type": "stream",
     "text": [
      "Total rows updated =  2\n"
     ]
    }
   ],
   "source": [
    "con.commit()\n",
    "print('Total rows updated = ',cur.rowcount)"
   ]
  },
  {
   "cell_type": "code",
   "execution_count": 37,
   "metadata": {},
   "outputs": [],
   "source": [
    "cur.execute(\"SELECT * FROM student WHERE admission = 3420 OR admission = 3423\");"
   ]
  },
  {
   "cell_type": "code",
   "execution_count": 38,
   "metadata": {},
   "outputs": [],
   "source": [
    "rows=cur.fetchall()"
   ]
  },
  {
   "cell_type": "code",
   "execution_count": 39,
   "metadata": {},
   "outputs": [
    {
     "name": "stdout",
     "output_type": "stream",
     "text": [
      "admission=  3423\n",
      "name=  {Alice}\n",
      "age=  19\n",
      "course=  {Information Technology}                          \n",
      "department=  {ICT}                                             \n",
      "---------------------------\n",
      "admission=  3420\n",
      "name=  {John}\n",
      "age=  19\n",
      "course=  {Computer Science}                                \n",
      "department=  {ICT}                                             \n",
      "---------------------------\n"
     ]
    }
   ],
   "source": [
    "for row in rows:\n",
    "    print(\"admission= \",row[0])\n",
    "    print(\"name= \",row[1])\n",
    "    print(\"age= \",row[2])\n",
    "    print(\"course= \",row[3])\n",
    "    print(\"department= \",row[4])\n",
    "    print(\"---------------------------\")"
   ]
  },
  {
   "cell_type": "code",
   "execution_count": 42,
   "metadata": {},
   "outputs": [],
   "source": [
    "con.close()"
   ]
  },
  {
   "cell_type": "code",
   "execution_count": 43,
   "metadata": {},
   "outputs": [],
   "source": [
    "con = psycopg2.connect(database='postgres', user='postgres', password='', host='127.0.0.1', port=5432)"
   ]
  },
  {
   "cell_type": "code",
   "execution_count": 44,
   "metadata": {},
   "outputs": [],
   "source": [
    "cur = con.cursor()"
   ]
  },
  {
   "cell_type": "markdown",
   "metadata": {},
   "source": [
    "# Deleting Rows\n",
    "\n",
    "To delete a record from a Postgres database table, we should first establish a connection to the database server. Secondly, a cursor object should be created by calling the cursor() function. We then run the DELETE statement to perform the deletion."
   ]
  },
  {
   "cell_type": "code",
   "execution_count": 45,
   "metadata": {},
   "outputs": [
    {
     "name": "stdout",
     "output_type": "stream",
     "text": [
      "Total rows deleted =  1\n"
     ]
    }
   ],
   "source": [
    "cur.execute(\"DELETE FROM student WHERE admission = 3420\");\n",
    "con.commit();\n",
    "print(\"Total rows deleted = \", cur.rowcount)"
   ]
  },
  {
   "cell_type": "code",
   "execution_count": 46,
   "metadata": {},
   "outputs": [],
   "source": [
    "cur.execute(\"SELECT * FROM student\");\n",
    "rows = cur.fetchall()"
   ]
  },
  {
   "cell_type": "code",
   "execution_count": 47,
   "metadata": {},
   "outputs": [
    {
     "name": "stdout",
     "output_type": "stream",
     "text": [
      "admission=  3419\n",
      "name=  {Abel}\n",
      "age=  17\n",
      "course=  {Computer Science}                                \n",
      "department=  {ICT}                                             \n",
      "---------------------------\n",
      "admission=  3421\n",
      "name=  {Joel}\n",
      "age=  17\n",
      "course=  {Computer Science}                                \n",
      "department=  {ICT}                                             \n",
      "---------------------------\n",
      "admission=  3422\n",
      "name=  {Antony}\n",
      "age=  19\n",
      "course=  {Electrical Engineering}                          \n",
      "department=  {Engineering}                                     \n",
      "---------------------------\n",
      "admission=  3423\n",
      "name=  {Alice}\n",
      "age=  19\n",
      "course=  {Information Technology}                          \n",
      "department=  {ICT}                                             \n",
      "---------------------------\n"
     ]
    }
   ],
   "source": [
    "for row in rows:\n",
    "    print(\"admission= \",row[0])\n",
    "    print(\"name= \",row[1])\n",
    "    print(\"age= \",row[2])\n",
    "    print(\"course= \",row[3])\n",
    "    print(\"department= \",row[4])\n",
    "    print(\"---------------------------\")"
   ]
  },
  {
   "cell_type": "markdown",
   "metadata": {},
   "source": [
    "# Python psycopg2 insert image\n",
    "\n",
    "In this section we are going to insert an image to the PostgreSQL database.\n",
    "\n",
    "database=> CREATE TABLE images(id SERIAL PRIMARY KEY, data BYTEA);\n",
    "\n",
    "For this example, we create a new table called images. For the images, we use the BYTEA data type. It allows to store binary strings."
   ]
  },
  {
   "cell_type": "code",
   "execution_count": 81,
   "metadata": {},
   "outputs": [],
   "source": [
    "import psycopg2\n",
    "import sys\n",
    "\n",
    "def readImage():\n",
    "    \n",
    "    fin=None\n",
    "    \n",
    "    try:\n",
    "        fin = open('F:\\\\Github\\\\PostgreSQL - Psycopg2\\\\use-img\\\\ml.jpeg','rb')\n",
    "        img = fin.read()\n",
    "        return img\n",
    "    \n",
    "    except IOError as e:\n",
    "        print(f'Error {e.args[0]},{e.args[1]}')\n",
    "        sys.exit(1)\n",
    "        \n",
    "    finally:\n",
    "        if fin:\n",
    "            fin.close()\n",
    "    \n",
    "con=None\n",
    "\n",
    "try:\n",
    "    con = psycopg2.connect(database='postgres', user='postgres', password='', host='127.0.0.1', port=5432)\n",
    "    cur = con.cursor()\n",
    "    data = readImage()\n",
    "    binary = psycopg2.Binary(data)\n",
    "    \n",
    "    cur.execute(\"CREATE TABLE images(id SERIAL PRIMARY KEY, data BYTEA)\");\n",
    "    cur.execute(\"INSERT INTO images(data) VALUES (%s)\",(binary,));\n",
    "    con.commit();\n",
    "\n",
    "except psycopg2.DatabaseError as e:\n",
    "    if con:\n",
    "        con.rollback()\n",
    "        \n",
    "    print(f'Error {e}')\n",
    "    sys.exit(1)\n",
    "    \n",
    "finally:\n",
    "    if con:\n",
    "        con.close()"
   ]
  },
  {
   "cell_type": "markdown",
   "metadata": {},
   "source": [
    "# Python psycopg2 read image\n",
    "\n",
    "In this section, we are going to perform the reverse operation. We read an image from the database table."
   ]
  },
  {
   "cell_type": "code",
   "execution_count": 82,
   "metadata": {},
   "outputs": [],
   "source": [
    "import psycopg2\n",
    "import sys\n",
    "\n",
    "def writeImage(data):\n",
    "\n",
    "    fout = None\n",
    "\n",
    "    try:\n",
    "        fout = open('F:\\\\Github\\\\PostgreSQL - Psycopg2\\\\use-img\\\\retrived_image.jpeg', 'wb')\n",
    "        fout.write(data)\n",
    "\n",
    "    except IOError as e:\n",
    "\n",
    "        print(f\"Error {0}\")\n",
    "        sys.exit(1)\n",
    "\n",
    "    finally:\n",
    "\n",
    "        if fout:\n",
    "            fout.close()\n",
    "\n",
    "\n",
    "try:\n",
    "    con = psycopg2.connect(database='postgres', user='postgres', password='', host='127.0.0.1', port=5432)\n",
    "    cur = con.cursor()\n",
    "    cur.execute(\"SELECT data FROM images LIMIT 1\");\n",
    "    data = cur.fetchone()[0]\n",
    "\n",
    "    writeImage(data)\n",
    "\n",
    "except psycopg2.DatabaseError as e:\n",
    "\n",
    "    print(f'Error {e}')\n",
    "    sys.exit(1)\n",
    "\n",
    "finally:\n",
    "\n",
    "    if con:\n",
    "        con.close()"
   ]
  },
  {
   "cell_type": "markdown",
   "metadata": {},
   "source": [
    "# Python psycopg2 export and import of data\n",
    "\n",
    "We can export and import data using copy_to and copy_from."
   ]
  },
  {
   "cell_type": "code",
   "execution_count": 88,
   "metadata": {},
   "outputs": [],
   "source": [
    "import psycopg2\n",
    "import sys\n",
    "\n",
    "con = None\n",
    "fout = None\n",
    "\n",
    "try:\n",
    "\n",
    "    con = psycopg2.connect(database='postgres', user='postgres', password='', host='127.0.0.1', port=5432)\n",
    "    cur = con.cursor()\n",
    "    fout = open('student.csv', 'w')\n",
    "    cur.copy_to(fout, 'student', sep=\"|\")\n",
    "\n",
    "except psycopg2.DatabaseError as e:\n",
    "\n",
    "    print(f'Error {e}')\n",
    "    sys.exit(1)\n",
    "\n",
    "except IOError as e:\n",
    "\n",
    "    print(f'Error {e}')\n",
    "    sys.exit(1)\n",
    "\n",
    "finally:\n",
    "\n",
    "    if con:\n",
    "        con.close()\n",
    "\n",
    "    if fout:\n",
    "        fout.close()"
   ]
  },
  {
   "cell_type": "code",
   "execution_count": 96,
   "metadata": {},
   "outputs": [],
   "source": [
    "con = psycopg2.connect(database='postgres', user='postgres', password='', host='127.0.0.1', port=5432)\n",
    "cur = con.cursor()"
   ]
  },
  {
   "cell_type": "code",
   "execution_count": 97,
   "metadata": {},
   "outputs": [],
   "source": [
    "cur.execute(\"DROP TABLE student\");\n",
    "con.commit();"
   ]
  },
  {
   "cell_type": "code",
   "execution_count": 101,
   "metadata": {},
   "outputs": [
    {
     "name": "stdout",
     "output_type": "stream",
     "text": [
      "admission=  3419\n",
      "name=  {Abel}\n",
      "age=  17\n",
      "course=  {Computer Science}                                \n",
      "department=  {ICT}                                             \n",
      "---------------------------\n",
      "admission=  3421\n",
      "name=  {Joel}\n",
      "age=  17\n",
      "course=  {Computer Science}                                \n",
      "department=  {ICT}                                             \n",
      "---------------------------\n",
      "admission=  3422\n",
      "name=  {Antony}\n",
      "age=  19\n",
      "course=  {Electrical Engineering}                          \n",
      "department=  {Engineering}                                     \n",
      "---------------------------\n",
      "admission=  3423\n",
      "name=  {Alice}\n",
      "age=  19\n",
      "course=  {Information Technology}                          \n",
      "department=  {ICT}                                             \n",
      "---------------------------\n"
     ]
    }
   ],
   "source": [
    "import psycopg2\n",
    "import sys\n",
    "\n",
    "con = None\n",
    "f = None\n",
    "\n",
    "try:\n",
    "\n",
    "    con = psycopg2.connect(database='postgres', user='postgres', password='', host='127.0.0.1', port=5432)\n",
    "    cur = con.cursor()\n",
    "    f = open('student.csv', 'r')\n",
    "    cur.execute('''CREATE TABLE IF NOT EXISTS student\n",
    "            (admission INT PRIMARY KEY NOT NULL,\n",
    "            name TEXT NOT NULL,\n",
    "            age INT NOT NULL,\n",
    "            course CHAR(50),\n",
    "            department CHAR(50));''')\n",
    "\n",
    "    cur.copy_from(f, 'student', sep=\"|\")\n",
    "    cur.execute(\"SELECT * FROM student\");\n",
    "    rows = cur.fetchall();\n",
    "    for row in rows:\n",
    "        print(\"admission= \",row[0])\n",
    "        print(\"name= \",row[1])\n",
    "        print(\"age= \",row[2])\n",
    "        print(\"course= \",row[3])\n",
    "        print(\"department= \",row[4])\n",
    "        print(\"---------------------------\")\n",
    "    con.commit()\n",
    "\n",
    "except psycopg2.DatabaseError as e:\n",
    "\n",
    "    if con:\n",
    "        con.rollback()\n",
    "\n",
    "    print(f'Error {e}')\n",
    "    sys.exit(1)\n",
    "\n",
    "except IOError as e:\n",
    "\n",
    "    if con:\n",
    "        con.rollback()\n",
    "\n",
    "    print(f'Error {e}')\n",
    "    sys.exit(1)\n",
    "\n",
    "finally:\n",
    "\n",
    "    if con:\n",
    "        con.close()\n",
    "\n",
    "    if f:\n",
    "        f.close()"
   ]
  },
  {
   "cell_type": "markdown",
   "metadata": {},
   "source": [
    "# Conclusion\n",
    "\n",
    "With Python, there are various ways we can access a PostgreSQL database. There are many database drivers for Python that we can use for this purpose, but psycopg is the most popular one. In this I showed how to install the module, establish a connection to your PostgreSQL database, and execute common SQL queries using Python code."
   ]
  },
  {
   "cell_type": "markdown",
   "metadata": {},
   "source": [
    "# The END!"
   ]
  }
 ],
 "metadata": {
  "kernelspec": {
   "display_name": "Python 3",
   "language": "python",
   "name": "python3"
  },
  "language_info": {
   "codemirror_mode": {
    "name": "ipython",
    "version": 3
   },
   "file_extension": ".py",
   "mimetype": "text/x-python",
   "name": "python",
   "nbconvert_exporter": "python",
   "pygments_lexer": "ipython3",
   "version": "3.7.6"
  }
 },
 "nbformat": 4,
 "nbformat_minor": 4
}
